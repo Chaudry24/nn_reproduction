{
 "cells": [
  {
   "cell_type": "code",
   "execution_count": 1,
   "id": "d48c955d",
   "metadata": {},
   "outputs": [],
   "source": [
    "import numpy as np\n",
    "import tensorflow as tf\n",
    "import matplotlib.pyplot as plt\n",
    "import h5py\n",
    "from sklearn.metrics.pairwise import euclidean_distances\n",
    "from skgstat import Variogram\n",
    "import joblib\n",
    "import numba"
   ]
  },
  {
   "cell_type": "code",
   "execution_count": 29,
   "id": "672dad16",
   "metadata": {},
   "outputs": [],
   "source": [
    "modelNF = tf.keras.models.load_model(\"./tf_stat_reproduction/NF/NF_model.h5\")"
   ]
  },
  {
   "cell_type": "code",
   "execution_count": 30,
   "id": "b5ed02e0",
   "metadata": {},
   "outputs": [
    {
     "name": "stdout",
     "output_type": "stream",
     "text": [
      "Model: \"sequential\"\n",
      "_________________________________________________________________\n",
      "Layer (type)                 Output Shape              Param #   \n",
      "=================================================================\n",
      "conv2d (Conv2D)              (None, 7, 7, 128)         12928     \n",
      "_________________________________________________________________\n",
      "conv2d_1 (Conv2D)            (None, 3, 3, 128)         409728    \n",
      "_________________________________________________________________\n",
      "conv2d_2 (Conv2D)            (None, 1, 1, 128)         147584    \n",
      "_________________________________________________________________\n",
      "flatten (Flatten)            (None, 128)               0         \n",
      "_________________________________________________________________\n",
      "dense (Dense)                (None, 500)               64500     \n",
      "_________________________________________________________________\n",
      "dense_1 (Dense)              (None, 2)                 1002      \n",
      "=================================================================\n",
      "Total params: 635,742\n",
      "Trainable params: 635,742\n",
      "Non-trainable params: 0\n",
      "_________________________________________________________________\n"
     ]
    }
   ],
   "source": [
    "modelNF.summary()"
   ]
  },
  {
   "cell_type": "code",
   "execution_count": 31,
   "id": "e000d74c",
   "metadata": {},
   "outputs": [
    {
     "data": {
      "text/plain": [
       "(10, 10, 1, 128)"
      ]
     },
     "execution_count": 31,
     "metadata": {},
     "output_type": "execute_result"
    }
   ],
   "source": [
    "modelNF.get_weights()[0].shape"
   ]
  },
  {
   "cell_type": "code",
   "execution_count": 32,
   "id": "ce5f1d1d",
   "metadata": {},
   "outputs": [
    {
     "data": {
      "text/plain": [
       "<matplotlib.image.AxesImage at 0x7fb559e31610>"
      ]
     },
     "execution_count": 32,
     "metadata": {},
     "output_type": "execute_result"
    },
    {
     "data": {
      "image/png": "[encoded data removed]",
      "text/plain": [
       "<Figure size 432x288 with 1 Axes>"
      ]
     },
     "metadata": {
      "needs_background": "light"
     },
     "output_type": "display_data"
    }
   ],
   "source": [
    " plt.imshow(modelNF.get_weights()[0][:, :, 0, 7])"
   ]
  },
  {
   "cell_type": "code",
   "execution_count": 45,
   "id": "030a30b8",
   "metadata": {},
   "outputs": [],
   "source": [
    "grid = np.random.randn(1000, 2)\n",
    "obs = np.random.randn(1000)\n",
    "\n",
    "spatial_dist = euclidean_distances(grid)\n",
    "obs_dist = euclidean_distances(np.column_stack((obs, np.zeros(1000))))"
   ]
  },
  {
   "cell_type": "code",
   "execution_count": 429,
   "id": "4c7b8068",
   "metadata": {},
   "outputs": [
    {
     "data": {
      "text/plain": [
       "0.8197614227411749"
      ]
     },
     "execution_count": 429,
     "metadata": {},
     "output_type": "execute_result"
    }
   ],
   "source": [
    "np_sp_dist = np.sort(spatial_dist.ravel())\n",
    "np_obs_dist = np.sort(obs_dist.ravel())\n",
    "bins = 10\n",
    "\n",
    "tmp1 = np.average(np_obs_dist[(np_sp_dist > 1) & (np_sp_dist < 2)])\n",
    "tmp1"
   ]
  },
  {
   "cell_type": "code",
   "execution_count": 595,
   "id": "543d798d",
   "metadata": {},
   "outputs": [],
   "source": [
    "# compute mean\n",
    "def find_locations(sp_distance, obs_distance, i_val, bins=10):\n",
    "    return 0.5 * np.average(obs_distance[(sp_distance >= i_val/bins) & (sp_distance <= (i_val+1) / bins)])\n",
    "\n",
    "## COMPUTE SEMIVARIOGRAM\n",
    "def compute_semivariogram(spatial_grid, observations, bins=10):\n",
    "    # list to store the means\n",
    "    mean_list = []\n",
    "    mean_list2 = []\n",
    "    # compute spatial distance\n",
    "    sp_dist = euclidean_distances(spatial_grid)\n",
    "    # normalize spatial distance\n",
    "    sp_dist /= np.max(sp_dist)\n",
    "    # compute obs dist\n",
    "    obs_dist = euclidean_distances(np.column_stack(\n",
    "        (obs, np.zeros(obs.shape[0])))) ** 2\n",
    "    # compute semivariogram\n",
    "    #for i in range(bins):\n",
    "     #   mean_list.append(0.5 * np.average(obs_dist[(sp_dist >= i/bins) & (sp_dist <= (i+1)/bins)]))\n",
    "    mean_list2.append(joblib.Parallel(2)(joblib.delayed(find_locations)(sp_dist, obs_dist, i, bins=bins) for i in range(bins)))\n",
    "    return np.array(mean_list2).ravel()\n",
    "\n",
    "\n",
    "def Variogram2(sp_grid, obs, bins=10):\n",
    "    return Variogram(sp_grid, obs, estimator=\"Cressie\", fit_method=None).experimental"
   ]
  },
  {
   "cell_type": "code",
   "execution_count": 562,
   "id": "7ea56a50",
   "metadata": {},
   "outputs": [
    {
     "data": {
      "text/plain": [
       "<matplotlib.legend.Legend at 0x7fc359f8a890>"
      ]
     },
     "execution_count": 562,
     "metadata": {},
     "output_type": "execute_result"
    },
    {
     "data": {
      "image/png": "[encoded data removed]",
      "text/plain": [
       "<Figure size 432x288 with 1 Axes>"
      ]
     },
     "metadata": {
      "needs_background": "light"
     },
     "output_type": "display_data"
    }
   ],
   "source": [
    "# spatial grid\n",
    "x = np.linspace(0, 16, 16)\n",
    "y = x\n",
    "x, y = np.meshgrid(x, y)\n",
    "sp_grid = np.column_stack((x.ravel(), y.ravel()))\n",
    "\n",
    "# obs\n",
    "cov = np.random.randn(256, 256) * 1e-2\n",
    "cov = cov @ cov.T + 0.4 * np.eye(256)\n",
    "obs = np.random.randn(256) @ np.linalg.cholesky(cov)\n",
    "obs = np.random.randn(256)\n",
    "#obs = np.random.uniform(0, 1, 256)\n",
    "\n",
    "obs_dist = euclidean_distances(np.column_stack(\n",
    "        (obs, np.zeros(obs.shape[0])))) ** 2\n",
    "\n",
    "z = compute_semivariogram(sp_grid, obs, bins)\n",
    "z1 = Variogram(sp_grid, obs, fit_method=None, estimator=\"Cressie\", n_lags=bins).experimental\n",
    "\n",
    "#plt.figure()\n",
    "#plt.plot(obs_dist.ravel() * 1e-1)\n",
    "plt.figure()\n",
    "\n",
    "plt.plot(z, label=\"mine\")\n",
    "plt.plot(z1, label=\"thier\")\n",
    "plt.legend()"
   ]
  },
  {
   "cell_type": "code",
   "execution_count": 522,
   "id": "6719d315",
   "metadata": {},
   "outputs": [
    {
     "data": {
      "text/plain": [
       "array([0.29879665, 0.33696493, 0.37282789, 0.37795152, 0.39662257,\n",
       "       0.40454448, 0.41747974, 0.42503369, 0.42578058, 0.42695789])"
      ]
     },
     "execution_count": 522,
     "metadata": {},
     "output_type": "execute_result"
    }
   ],
   "source": [
    "z2.sort()\n",
    "z2"
   ]
  },
  {
   "cell_type": "code",
   "execution_count": 524,
   "id": "3d8af897",
   "metadata": {},
   "outputs": [
    {
     "data": {
      "text/plain": [
       "array([0.29879665, 0.34412788, 0.38096965, 0.38381819, 0.4013417 ,\n",
       "       0.41494439, 0.41817859, 0.43970755, 0.45356848, 0.4541711 ])"
      ]
     },
     "execution_count": 524,
     "metadata": {},
     "output_type": "execute_result"
    }
   ],
   "source": [
    "z.sort()\n",
    "z"
   ]
  },
  {
   "cell_type": "code",
   "execution_count": 592,
   "id": "2e1fcd32",
   "metadata": {},
   "outputs": [],
   "source": [
    "n = 10000"
   ]
  },
  {
   "cell_type": "code",
   "execution_count": 565,
   "id": "423bf2fd",
   "metadata": {},
   "outputs": [
    {
     "name": "stdout",
     "output_type": "stream",
     "text": [
      "CPU times: user 8.89 s, sys: 3.98 s, total: 12.9 s\n",
      "Wall time: 2.12 s\n"
     ]
    }
   ],
   "source": [
    "%%time\n",
    "for i in range(n):\n",
    "    compute_semivariogram(sp_grid, obs)"
   ]
  },
  {
   "cell_type": "code",
   "execution_count": 459,
   "id": "681c97f7",
   "metadata": {},
   "outputs": [
    {
     "name": "stdout",
     "output_type": "stream",
     "text": [
      "CPU times: user 1.3 s, sys: 295 ms, total: 1.59 s\n",
      "Wall time: 220 ms\n"
     ]
    }
   ],
   "source": [
    "%%time\n",
    "for i in range(n):\n",
    "    #print(\"apple\")\n",
    "    compute_semivariogram(sp_grid, obs)"
   ]
  },
  {
   "cell_type": "code",
   "execution_count": 457,
   "id": "8d416473",
   "metadata": {},
   "outputs": [
    {
     "name": "stdout",
     "output_type": "stream",
     "text": [
      "CPU times: user 224 ms, sys: 2.73 ms, total: 227 ms\n",
      "Wall time: 225 ms\n"
     ]
    }
   ],
   "source": [
    "%%time\n",
    "for i in range(n):\n",
    "    Variogram2(sp_grid, obs)"
   ]
  },
  {
   "cell_type": "code",
   "execution_count": 460,
   "id": "3047f0b6",
   "metadata": {},
   "outputs": [
    {
     "name": "stdout",
     "output_type": "stream",
     "text": [
      "CPU times: user 228 ms, sys: 6.12 ms, total: 234 ms\n",
      "Wall time: 232 ms\n"
     ]
    }
   ],
   "source": [
    "%%time\n",
    "for i in range(n):\n",
    "    #print(\"apple\")\n",
    "    Variogram2(sp_grid, obs)"
   ]
  },
  {
   "cell_type": "code",
   "execution_count": 596,
   "id": "8c9403b2",
   "metadata": {},
   "outputs": [
    {
     "ename": "KeyboardInterrupt",
     "evalue": "",
     "output_type": "error",
     "traceback": [
      "\u001b[0;31m---------------------------------------------------------------------------\u001b[0m",
      "\u001b[0;31mKeyboardInterrupt\u001b[0m                         Traceback (most recent call last)",
      "\u001b[0;32m<timed exec>\u001b[0m in \u001b[0;36m<module>\u001b[0;34m\u001b[0m\n",
      "\u001b[0;32m~/opt/anaconda3/envs/spatial_statistics/lib/python3.7/site-packages/joblib/parallel.py\u001b[0m in \u001b[0;36m__call__\u001b[0;34m(self, iterable)\u001b[0m\n\u001b[1;32m   1054\u001b[0m \u001b[0;34m\u001b[0m\u001b[0m\n\u001b[1;32m   1055\u001b[0m             \u001b[0;32mwith\u001b[0m \u001b[0mself\u001b[0m\u001b[0;34m.\u001b[0m\u001b[0m_backend\u001b[0m\u001b[0;34m.\u001b[0m\u001b[0mretrieval_context\u001b[0m\u001b[0;34m(\u001b[0m\u001b[0;34m)\u001b[0m\u001b[0;34m:\u001b[0m\u001b[0;34m\u001b[0m\u001b[0;34m\u001b[0m\u001b[0m\n\u001b[0;32m-> 1056\u001b[0;31m                 \u001b[0mself\u001b[0m\u001b[0;34m.\u001b[0m\u001b[0mretrieve\u001b[0m\u001b[0;34m(\u001b[0m\u001b[0;34m)\u001b[0m\u001b[0;34m\u001b[0m\u001b[0;34m\u001b[0m\u001b[0m\n\u001b[0m\u001b[1;32m   1057\u001b[0m             \u001b[0;31m# Make sure that we get a last message telling us we are done\u001b[0m\u001b[0;34m\u001b[0m\u001b[0;34m\u001b[0m\u001b[0;34m\u001b[0m\u001b[0m\n\u001b[1;32m   1058\u001b[0m             \u001b[0melapsed_time\u001b[0m \u001b[0;34m=\u001b[0m \u001b[0mtime\u001b[0m\u001b[0;34m.\u001b[0m\u001b[0mtime\u001b[0m\u001b[0;34m(\u001b[0m\u001b[0;34m)\u001b[0m \u001b[0;34m-\u001b[0m \u001b[0mself\u001b[0m\u001b[0;34m.\u001b[0m\u001b[0m_start_time\u001b[0m\u001b[0;34m\u001b[0m\u001b[0;34m\u001b[0m\u001b[0m\n",
      "\u001b[0;32m~/opt/anaconda3/envs/spatial_statistics/lib/python3.7/site-packages/joblib/parallel.py\u001b[0m in \u001b[0;36mretrieve\u001b[0;34m(self)\u001b[0m\n\u001b[1;32m    933\u001b[0m             \u001b[0;32mtry\u001b[0m\u001b[0;34m:\u001b[0m\u001b[0;34m\u001b[0m\u001b[0;34m\u001b[0m\u001b[0m\n\u001b[1;32m    934\u001b[0m                 \u001b[0;32mif\u001b[0m \u001b[0mgetattr\u001b[0m\u001b[0;34m(\u001b[0m\u001b[0mself\u001b[0m\u001b[0;34m.\u001b[0m\u001b[0m_backend\u001b[0m\u001b[0;34m,\u001b[0m \u001b[0;34m'supports_timeout'\u001b[0m\u001b[0;34m,\u001b[0m \u001b[0;32mFalse\u001b[0m\u001b[0;34m)\u001b[0m\u001b[0;34m:\u001b[0m\u001b[0;34m\u001b[0m\u001b[0;34m\u001b[0m\u001b[0m\n\u001b[0;32m--> 935\u001b[0;31m                     \u001b[0mself\u001b[0m\u001b[0;34m.\u001b[0m\u001b[0m_output\u001b[0m\u001b[0;34m.\u001b[0m\u001b[0mextend\u001b[0m\u001b[0;34m(\u001b[0m\u001b[0mjob\u001b[0m\u001b[0;34m.\u001b[0m\u001b[0mget\u001b[0m\u001b[0;34m(\u001b[0m\u001b[0mtimeout\u001b[0m\u001b[0;34m=\u001b[0m\u001b[0mself\u001b[0m\u001b[0;34m.\u001b[0m\u001b[0mtimeout\u001b[0m\u001b[0;34m)\u001b[0m\u001b[0;34m)\u001b[0m\u001b[0;34m\u001b[0m\u001b[0;34m\u001b[0m\u001b[0m\n\u001b[0m\u001b[1;32m    936\u001b[0m                 \u001b[0;32melse\u001b[0m\u001b[0;34m:\u001b[0m\u001b[0;34m\u001b[0m\u001b[0;34m\u001b[0m\u001b[0m\n\u001b[1;32m    937\u001b[0m                     \u001b[0mself\u001b[0m\u001b[0;34m.\u001b[0m\u001b[0m_output\u001b[0m\u001b[0;34m.\u001b[0m\u001b[0mextend\u001b[0m\u001b[0;34m(\u001b[0m\u001b[0mjob\u001b[0m\u001b[0;34m.\u001b[0m\u001b[0mget\u001b[0m\u001b[0;34m(\u001b[0m\u001b[0;34m)\u001b[0m\u001b[0;34m)\u001b[0m\u001b[0;34m\u001b[0m\u001b[0;34m\u001b[0m\u001b[0m\n",
      "\u001b[0;32m~/opt/anaconda3/envs/spatial_statistics/lib/python3.7/site-packages/joblib/_parallel_backends.py\u001b[0m in \u001b[0;36mwrap_future_result\u001b[0;34m(future, timeout)\u001b[0m\n\u001b[1;32m    540\u001b[0m         AsyncResults.get from multiprocessing.\"\"\"\n\u001b[1;32m    541\u001b[0m         \u001b[0;32mtry\u001b[0m\u001b[0;34m:\u001b[0m\u001b[0;34m\u001b[0m\u001b[0;34m\u001b[0m\u001b[0m\n\u001b[0;32m--> 542\u001b[0;31m             \u001b[0;32mreturn\u001b[0m \u001b[0mfuture\u001b[0m\u001b[0;34m.\u001b[0m\u001b[0mresult\u001b[0m\u001b[0;34m(\u001b[0m\u001b[0mtimeout\u001b[0m\u001b[0;34m=\u001b[0m\u001b[0mtimeout\u001b[0m\u001b[0;34m)\u001b[0m\u001b[0;34m\u001b[0m\u001b[0;34m\u001b[0m\u001b[0m\n\u001b[0m\u001b[1;32m    543\u001b[0m         \u001b[0;32mexcept\u001b[0m \u001b[0mCfTimeoutError\u001b[0m \u001b[0;32mas\u001b[0m \u001b[0me\u001b[0m\u001b[0;34m:\u001b[0m\u001b[0;34m\u001b[0m\u001b[0;34m\u001b[0m\u001b[0m\n\u001b[1;32m    544\u001b[0m             \u001b[0;32mraise\u001b[0m \u001b[0mTimeoutError\u001b[0m \u001b[0;32mfrom\u001b[0m \u001b[0me\u001b[0m\u001b[0;34m\u001b[0m\u001b[0;34m\u001b[0m\u001b[0m\n",
      "\u001b[0;32m~/opt/anaconda3/envs/spatial_statistics/lib/python3.7/concurrent/futures/_base.py\u001b[0m in \u001b[0;36mresult\u001b[0;34m(self, timeout)\u001b[0m\n\u001b[1;32m    428\u001b[0m                 \u001b[0;32mreturn\u001b[0m \u001b[0mself\u001b[0m\u001b[0;34m.\u001b[0m\u001b[0m__get_result\u001b[0m\u001b[0;34m(\u001b[0m\u001b[0;34m)\u001b[0m\u001b[0;34m\u001b[0m\u001b[0;34m\u001b[0m\u001b[0m\n\u001b[1;32m    429\u001b[0m \u001b[0;34m\u001b[0m\u001b[0m\n\u001b[0;32m--> 430\u001b[0;31m             \u001b[0mself\u001b[0m\u001b[0;34m.\u001b[0m\u001b[0m_condition\u001b[0m\u001b[0;34m.\u001b[0m\u001b[0mwait\u001b[0m\u001b[0;34m(\u001b[0m\u001b[0mtimeout\u001b[0m\u001b[0;34m)\u001b[0m\u001b[0;34m\u001b[0m\u001b[0;34m\u001b[0m\u001b[0m\n\u001b[0m\u001b[1;32m    431\u001b[0m \u001b[0;34m\u001b[0m\u001b[0m\n\u001b[1;32m    432\u001b[0m             \u001b[0;32mif\u001b[0m \u001b[0mself\u001b[0m\u001b[0;34m.\u001b[0m\u001b[0m_state\u001b[0m \u001b[0;32min\u001b[0m \u001b[0;34m[\u001b[0m\u001b[0mCANCELLED\u001b[0m\u001b[0;34m,\u001b[0m \u001b[0mCANCELLED_AND_NOTIFIED\u001b[0m\u001b[0;34m]\u001b[0m\u001b[0;34m:\u001b[0m\u001b[0;34m\u001b[0m\u001b[0;34m\u001b[0m\u001b[0m\n",
      "\u001b[0;32m~/opt/anaconda3/envs/spatial_statistics/lib/python3.7/threading.py\u001b[0m in \u001b[0;36mwait\u001b[0;34m(self, timeout)\u001b[0m\n\u001b[1;32m    294\u001b[0m         \u001b[0;32mtry\u001b[0m\u001b[0;34m:\u001b[0m    \u001b[0;31m# restore state no matter what (e.g., KeyboardInterrupt)\u001b[0m\u001b[0;34m\u001b[0m\u001b[0;34m\u001b[0m\u001b[0m\n\u001b[1;32m    295\u001b[0m             \u001b[0;32mif\u001b[0m \u001b[0mtimeout\u001b[0m \u001b[0;32mis\u001b[0m \u001b[0;32mNone\u001b[0m\u001b[0;34m:\u001b[0m\u001b[0;34m\u001b[0m\u001b[0;34m\u001b[0m\u001b[0m\n\u001b[0;32m--> 296\u001b[0;31m                 \u001b[0mwaiter\u001b[0m\u001b[0;34m.\u001b[0m\u001b[0macquire\u001b[0m\u001b[0;34m(\u001b[0m\u001b[0;34m)\u001b[0m\u001b[0;34m\u001b[0m\u001b[0;34m\u001b[0m\u001b[0m\n\u001b[0m\u001b[1;32m    297\u001b[0m                 \u001b[0mgotit\u001b[0m \u001b[0;34m=\u001b[0m \u001b[0;32mTrue\u001b[0m\u001b[0;34m\u001b[0m\u001b[0;34m\u001b[0m\u001b[0m\n\u001b[1;32m    298\u001b[0m             \u001b[0;32melse\u001b[0m\u001b[0;34m:\u001b[0m\u001b[0;34m\u001b[0m\u001b[0;34m\u001b[0m\u001b[0m\n",
      "\u001b[0;31mKeyboardInterrupt\u001b[0m: "
     ]
    }
   ],
   "source": [
    "%%time\n",
    "z = joblib.Parallel(2)(joblib.delayed(compute_semivariogram)(sp_grid, obs) for i in range(n))"
   ]
  },
  {
   "cell_type": "code",
   "execution_count": 597,
   "id": "124ce849",
   "metadata": {
    "scrolled": true
   },
   "outputs": [
    {
     "name": "stdout",
     "output_type": "stream",
     "text": [
      "CPU times: user 1.28 s, sys: 200 ms, total: 1.48 s\n",
      "Wall time: 8.69 s\n"
     ]
    }
   ],
   "source": [
    "%%time\n",
    "z1 = joblib.Parallel(-1)(joblib.delayed(Variogram2)(sp_grid, obs) for i in range(n))"
   ]
  },
  {
   "cell_type": "code",
   "execution_count": 603,
   "id": "5aa9987d",
   "metadata": {},
   "outputs": [
    {
     "name": "stdout",
     "output_type": "stream",
     "text": [
      "Model: \"sequential\"\n",
      "_________________________________________________________________\n",
      "Layer (type)                 Output Shape              Param #   \n",
      "=================================================================\n",
      "conv2d (Conv2D)              (None, 7, 7, 128)         384128    \n",
      "_________________________________________________________________\n",
      "conv2d_1 (Conv2D)            (None, 3, 3, 128)         409728    \n",
      "_________________________________________________________________\n",
      "conv2d_2 (Conv2D)            (None, 1, 1, 128)         147584    \n",
      "_________________________________________________________________\n",
      "flatten (Flatten)            (None, 128)               0         \n",
      "_________________________________________________________________\n",
      "dense (Dense)                (None, 500)               64500     \n",
      "_________________________________________________________________\n",
      "dense_1 (Dense)              (None, 2)                 1002      \n",
      "=================================================================\n",
      "Total params: 1,006,942\n",
      "Trainable params: 1,006,942\n",
      "Non-trainable params: 0\n",
      "_________________________________________________________________\n"
     ]
    }
   ],
   "source": [
    "modelNF30.summary()"
   ]
  },
  {
   "cell_type": "code",
   "execution_count": 1,
   "id": "1951be08",
   "metadata": {
    "scrolled": false
   },
   "outputs": [],
   "source": [
    "#model_saved = tf.keras.models.load_model(\"../TFspatstat_paper_supplementary_material/2_model_NI_NI30/model_NI/\")"
   ]
  },
  {
   "cell_type": "code",
   "execution_count": 10,
   "id": "9f795302",
   "metadata": {},
   "outputs": [
    {
     "name": "stdout",
     "output_type": "stream",
     "text": [
      "Model: \"sequential_5\"\n",
      "_________________________________________________________________\n",
      "Layer (type)                 Output Shape              Param #   \n",
      "=================================================================\n",
      "conv2d_9 (Conv2D)            (None, 7, 7, 128)         12928     \n",
      "_________________________________________________________________\n",
      "conv2d_10 (Conv2D)           (None, 3, 3, 128)         409728    \n",
      "_________________________________________________________________\n",
      "conv2d_11 (Conv2D)           (None, 1, 1, 128)         147584    \n",
      "_________________________________________________________________\n",
      "flatten_5 (Flatten)          (None, 128)               0         \n",
      "_________________________________________________________________\n",
      "dense_10 (Dense)             (None, 500)               64500     \n",
      "_________________________________________________________________\n",
      "dense_11 (Dense)             (None, 2)                 1002      \n",
      "=================================================================\n",
      "Total params: 635,742\n",
      "Trainable params: 635,742\n",
      "Non-trainable params: 0\n",
      "_________________________________________________________________\n"
     ]
    }
   ],
   "source": [
    "model1 = tf.keras.Sequential([\n",
    "    tf.keras.layers.Conv2D(filters=128, kernel_size=10, input_shape=(16,16,1), activation='relu'),\n",
    "    tf.keras.layers.Conv2D(filters=128, kernel_size=5, activation='relu'),\n",
    "    tf.keras.layers.Conv2D(filters=128, kernel_size=3, activation='relu'),\n",
    "    tf.keras.layers.Flatten(),\n",
    "    tf.keras.layers.Dense(500, activation='relu'),\n",
    "    tf.keras.layers.Dense(2),\n",
    "])\n",
    "\n",
    "model1.summary()"
   ]
  },
  {
   "cell_type": "code",
   "execution_count": 8,
   "id": "d157ff89",
   "metadata": {},
   "outputs": [
    {
     "name": "stdout",
     "output_type": "stream",
     "text": [
      "Model: \"sequential_3\"\n",
      "_________________________________________________________________\n",
      "Layer (type)                 Output Shape              Param #   \n",
      "=================================================================\n",
      "locally_connected2d_3 (Local (None, 7, 7, 128)         18822272  \n",
      "_________________________________________________________________\n",
      "locally_connected2d_4 (Local (None, 3, 3, 128)         3687552   \n",
      "_________________________________________________________________\n",
      "locally_connected2d_5 (Local (None, 1, 1, 128)         147584    \n",
      "_________________________________________________________________\n",
      "flatten_3 (Flatten)          (None, 128)               0         \n",
      "_________________________________________________________________\n",
      "dense_6 (Dense)              (None, 500)               64500     \n",
      "_________________________________________________________________\n",
      "dense_7 (Dense)              (None, 2)                 1002      \n",
      "=================================================================\n",
      "Total params: 22,722,910\n",
      "Trainable params: 22,722,910\n",
      "Non-trainable params: 0\n",
      "_________________________________________________________________\n"
     ]
    }
   ],
   "source": [
    "model2 = tf.keras.Sequential([\n",
    "    tf.keras.layers.LocallyConnected2D(filters=128, kernel_size=10, input_shape=(16,16,30), activation='relu'),\n",
    "    tf.keras.layers.LocallyConnected2D(filters=128, kernel_size=5, activation='relu'),\n",
    "    tf.keras.layers.LocallyConnected2D(filters=128, kernel_size=3, activation='relu'),\n",
    "    tf.keras.layers.Flatten(),\n",
    "    tf.keras.layers.Dense(500, activation='relu'),\n",
    "    tf.keras.layers.Dense(2),\n",
    "])\n",
    "\n",
    "model2.summary()"
   ]
  },
  {
   "cell_type": "code",
   "execution_count": 2,
   "id": "cbd258d6",
   "metadata": {},
   "outputs": [
    {
     "name": "stderr",
     "output_type": "stream",
     "text": [
      "2021-12-27 11:41:33.983528: I tensorflow/core/platform/cpu_feature_guard.cc:145] This TensorFlow binary is optimized with Intel(R) MKL-DNN to use the following CPU instructions in performance critical operations:  SSE4.1 SSE4.2\n",
      "To enable them in non-MKL-DNN operations, rebuild TensorFlow with the appropriate compiler flags.\n",
      "2021-12-27 11:41:33.984399: I tensorflow/core/common_runtime/process_util.cc:115] Creating new thread pool with default inter op setting: 8. Tune using inter_op_parallelism_threads for best performance.\n"
     ]
    },
    {
     "data": {
      "text/plain": [
       "<tf.Tensor: id=5, shape=(2, 3, 3), dtype=float32, numpy=\n",
       "array([[[ 1.2151583 , -0.04883512, -1.0227139 ],\n",
       "        [-1.0873159 , -1.202125  ,  0.55712605],\n",
       "        [ 0.11295333,  0.5736007 , -0.2061377 ]],\n",
       "\n",
       "       [[ 1.0850106 ,  0.3018297 , -0.42620036],\n",
       "        [ 0.2558984 ,  1.0507982 ,  1.0622025 ],\n",
       "        [ 0.687354  , -0.24077962,  0.34430993]]], dtype=float32)>"
      ]
     },
     "execution_count": 2,
     "metadata": {},
     "output_type": "execute_result"
    }
   ],
   "source": [
    "data = tf.random.normal((2, 3, 3))\n",
    "data"
   ]
  },
  {
   "cell_type": "code",
   "execution_count": 12,
   "id": "bd4f2766",
   "metadata": {},
   "outputs": [
    {
     "data": {
      "text/plain": [
       "<tf.Tensor: id=24, shape=(2, 3, 3), dtype=float32, numpy=\n",
       "array([[[ 1.2151583 , -0.04883512, -1.0227139 ],\n",
       "        [-1.0873159 , -1.202125  ,  0.55712605],\n",
       "        [ 0.11295333,  0.5736007 , -0.2061377 ]],\n",
       "\n",
       "       [[ 1.0850106 ,  0.3018297 , -0.42620036],\n",
       "        [ 0.2558984 ,  1.0507982 ,  1.0622025 ],\n",
       "        [ 0.687354  , -0.24077962,  0.34430993]]], dtype=float32)>"
      ]
     },
     "execution_count": 12,
     "metadata": {},
     "output_type": "execute_result"
    }
   ],
   "source": [
    "data = tf.reverse(data, axis=[1, 2])\n",
    "data"
   ]
  },
  {
   "cell_type": "code",
   "execution_count": 13,
   "id": "2c14de0e",
   "metadata": {},
   "outputs": [
    {
     "data": {
      "text/plain": [
       "<function tensorflow.python.ops.gen_array_ops.tile(input, multiples, name=None)>"
      ]
     },
     "execution_count": 13,
     "metadata": {},
     "output_type": "execute_result"
    }
   ],
   "source": [
    "tf.tile()"
   ]
  },
  {
   "cell_type": "code",
   "execution_count": 10,
   "id": "fba255e5",
   "metadata": {},
   "outputs": [
    {
     "data": {
      "text/plain": [
       "<tf.Tensor: id=20, shape=(2, 3, 3), dtype=float32, numpy=\n",
       "array([[[ 1.2151583 , -1.0873159 ,  0.11295333],\n",
       "        [-0.04883512, -1.202125  ,  0.5736007 ],\n",
       "        [-1.0227139 ,  0.55712605, -0.2061377 ]],\n",
       "\n",
       "       [[ 1.0850106 ,  0.2558984 ,  0.687354  ],\n",
       "        [ 0.3018297 ,  1.0507982 , -0.24077962],\n",
       "        [-0.42620036,  1.0622025 ,  0.34430993]]], dtype=float32)>"
      ]
     },
     "execution_count": 10,
     "metadata": {},
     "output_type": "execute_result"
    }
   ],
   "source": [
    "tf.transpose(data, perm=[0, 2, 1])"
   ]
  }
 ],
 "metadata": {
  "kernelspec": {
   "display_name": "Python 3 (ipykernel)",
   "language": "python",
   "name": "python3"
  },
  "language_info": {
   "codemirror_mode": {
    "name": "ipython",
    "version": 3
   },
   "file_extension": ".py",
   "mimetype": "text/x-python",
   "name": "python",
   "nbconvert_exporter": "python",
   "pygments_lexer": "ipython3",
   "version": "3.7.7"
  }
 },
 "nbformat": 4,
 "nbformat_minor": 5
}
