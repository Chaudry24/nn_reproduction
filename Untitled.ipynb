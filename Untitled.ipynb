{
 "cells": [
  {
   "cell_type": "code",
   "execution_count": 32,
   "id": "59f64ddc",
   "metadata": {},
   "outputs": [],
   "source": [
    "import numpy as np\n",
    "from sklearn.metrics.pairwise import euclidean_distances\n",
    "import matplotlib.pyplot as plt"
   ]
  },
  {
   "cell_type": "code",
   "execution_count": 33,
   "id": "58c55d12",
   "metadata": {},
   "outputs": [],
   "source": [
    "# generate some random coordinates on the unit cube\n",
    "domain = np.random.uniform(0, 1, 100)\n",
    "domain = np.column_stack((domain, domain))\n",
    "\n",
    "# generate some random data\n",
    "data = np.random.uniform(100)"
   ]
  },
  {
   "cell_type": "code",
   "execution_count": 34,
   "id": "ff42ffc4",
   "metadata": {},
   "outputs": [],
   "source": [
    "# compute spatial distance\n",
    "spatial_dist = euclidean_distances(domain)\n",
    "\n",
    "# compute pair-wise observation distance squared\n",
    "observational_dist = euclidean_distances(np.column_stack((data, data)))"
   ]
  },
  {
   "cell_type": "code",
   "execution_count": 35,
   "id": "877f1204",
   "metadata": {},
   "outputs": [
    {
     "name": "stderr",
     "output_type": "stream",
     "text": [
      "/Users/chaudry24/opt/anaconda3/envs/spatial_statistics/lib/python3.7/site-packages/numpy/lib/function_base.py:380: RuntimeWarning: Mean of empty slice.\n",
      "  avg = a.mean(axis)\n",
      "/Users/chaudry24/opt/anaconda3/envs/spatial_statistics/lib/python3.7/site-packages/numpy/core/_methods.py:188: RuntimeWarning: invalid value encountered in double_scalars\n",
      "  ret = ret.dtype.type(ret / rcount)\n"
     ]
    }
   ],
   "source": [
    "# set bins\n",
    "bins = 10\n",
    "\n",
    "# empty list to store mean from each bin\n",
    "mean_vals = []\n",
    "\n",
    "for i in range(bins):\n",
    "    # empty list to store observation distance values in each bin\n",
    "    tmp_list = []\n",
    "    for j in range(observational_dist.ravel().size):\n",
    "        if i / bins < spatial_dist.ravel()[j] <= (i+1) / bins:\n",
    "            tmp_list.append(observational_dist.ravel()[j])\n",
    "        mean_vals.append(np.average(tmp_list))"
   ]
  },
  {
   "cell_type": "code",
   "execution_count": 36,
   "id": "7a07ca2d",
   "metadata": {},
   "outputs": [
    {
     "data": {
      "text/plain": [
       "[nan, nan, nan, nan, nan, nan, nan, nan, nan, nan]"
      ]
     },
     "execution_count": 36,
     "metadata": {},
     "output_type": "execute_result"
    }
   ],
   "source": [
    "mean_vals"
   ]
  },
  {
   "cell_type": "code",
   "execution_count": null,
   "id": "04940910",
   "metadata": {},
   "outputs": [],
   "source": []
  }
 ],
 "metadata": {
  "kernelspec": {
   "display_name": "Python 3 (ipykernel)",
   "language": "python",
   "name": "python3"
  },
  "language_info": {
   "codemirror_mode": {
    "name": "ipython",
    "version": 3
   },
   "file_extension": ".py",
   "mimetype": "text/x-python",
   "name": "python",
   "nbconvert_exporter": "python",
   "pygments_lexer": "ipython3",
   "version": "3.7.11"
  }
 },
 "nbformat": 4,
 "nbformat_minor": 5
}
